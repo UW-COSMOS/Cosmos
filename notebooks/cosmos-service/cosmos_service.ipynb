{
 "cells": [
  {
   "cell_type": "code",
   "execution_count": null,
   "metadata": {},
   "outputs": [],
   "source": [
    "import requests\n",
    "import time\n",
    "from tempfile import TemporaryDirectory\n",
    "from IPython.display import clear_output, FileLink, Image, display\n",
    "from zipfile import ZipFile\n",
    "from pyarrow import parquet\n",
    "import json\n",
    "import os\n",
    "\n",
    "COSMOS_BASE_URL = \"http://xdd.wisc.edu/cosmos_service\"\n",
    "SAMPLE_PDF_URL= \"https://www.nature.com/articles/s41591-020-0883-7.pdf\"\n",
    "SAMPLE_PDF_PATH = \"sidarthe.pdf\""
   ]
  },
  {
   "cell_type": "markdown",
   "metadata": {},
   "source": [
    "### Submit a PDF for Processing\n",
    "\n",
    "Make a POST request to the base URL containing a multipart form with the contents of the file in the `pdf` field.\n",
    "Other form fields include:\n",
    "- `compress_images` (default `True`): Return compressed JPG images if `True`, uncompressed PNGs otherwise.  "
   ]
  },
  {
   "cell_type": "code",
   "execution_count": null,
   "metadata": {},
   "outputs": [],
   "source": [
    "# Download a local copy of the PDF\n",
    "\n",
    "with open(SAMPLE_PDF_PATH, 'wb') as pdf_writer:\n",
    "    pdf_writer.write(requests.get(SAMPLE_PDF_URL).content)"
   ]
  },
  {
   "cell_type": "code",
   "execution_count": null,
   "metadata": {},
   "outputs": [],
   "source": [
    "# Submit the locally copied PDF to the COSMOS processing pipeline\n",
    "\n",
    "submit_endpoint = COSMOS_BASE_URL + '/process/'\n",
    "\n",
    "with open(SAMPLE_PDF_PATH, 'rb') as pdf_to_parse:\n",
    "    file_form = {'pdf': pdf_to_parse }\n",
    "    data_form = {'compress_images': False }\n",
    "\n",
    "    response = requests.post(submit_endpoint, files=file_form, data=data_form)\n",
    "\n",
    "    response_data = response.json()\n",
    "    job_id = response_data['job_id']\n",
    "\n",
    "    status_endpoint = response_data['status_endpoint']\n",
    "    results_endpoint = response_data['result_endpoint']\n",
    "\n",
    "    print(f\"Message: {response_data['message']}\\n\"\n",
    "          f\"Job ID: {response_data['job_id']}\\n\"\n",
    "          f\"Status Endpoint: {status_endpoint}\\n\"\n",
    "          f\"Results Endpoint: {results_endpoint}\")"
   ]
  },
  {
   "cell_type": "markdown",
   "metadata": {},
   "source": [
    "### Monitor COSMOS Processing Status\n",
    "\n",
    "Poll the URL suffix returned in the `status_endpoint` field of the initial response object.\n",
    "For the sample document, processing can take up to 5 minutes. The `/status` endpoint\n",
    "will return several fields, including a `job_completed` field and an `error` field which initially \n",
    "`false` and `null` respectively. If the `job_completed` field becomes `true`, then the job completed \n",
    "successfully, and if the `error` field becomes non-`null` then the job failed. "
   ]
  },
  {
   "cell_type": "code",
   "execution_count": null,
   "metadata": {},
   "outputs": [],
   "source": [
    "POLL_COUNT = 80\n",
    "POLL_INTERVAL = 5\n",
    "\n",
    "job_done = False\n",
    "\n",
    "for i in range(POLL_COUNT):\n",
    "    response = requests.get(status_endpoint)\n",
    "    response_data = response.json()\n",
    "    clear_output(wait=True)\n",
    "    print(f\"Polled status endpoint {i} times:\\n{response_data}\")\n",
    "    job_done = response_data['error'] or response_data['job_completed']\n",
    "    if job_done:\n",
    "        break\n",
    "    time.sleep(POLL_INTERVAL)\n",
    "\n",
    "if not job_done:\n",
    "    print(f\"ERROR: Job not complete after {POLL_COUNT * POLL_INTERVAL} seconds.\")\n",
    "elif response_data['error']:\n",
    "    print(f\"An unexpected error occurred: {response_data['error']}\")\n",
    "else:\n",
    "    print(f\"Job succeeded after {response_data['time_processing']} seconds.\\n\"\n",
    "          f\"Results can be viewed at {results_endpoint}\")"
   ]
  },
  {
   "cell_type": "markdown",
   "metadata": {},
   "source": [
    "### Obtain Results\n",
    "\n",
    "Once the `/status` endpoint indicates that `job_completed` is `true`, the following endpoints will be available via GET request:\n",
    "- `/result/text`: The text extracted from the document, alongside its bounding boxes and classification, as JSON.\n",
    "- `/result/extractions/{extraction_type}`: The bounding boxes of individual extraction types, and temporary links to their images, as JSON. \n",
    "  Valid extraction types are `equations`, `figures`, and `tables`.\n",
    "- `/result/images/{image_id}`: Temporary image hosting for the cosmos extractions.\n",
    "- `/result`: The entire contents of the cosmos processing job as a zip file, containing images of extracted pdf regions and parquet files with those extractions' metadata.\n",
    "\n",
    "All results are available for 24 hours after image processing completes, after which they will be deleted."
   ]
  },
  {
   "cell_type": "markdown",
   "metadata": {},
   "source": [
    "### Extractions (JSON)"
   ]
  },
  {
   "cell_type": "code",
   "execution_count": null,
   "metadata": {},
   "outputs": [],
   "source": [
    "# Extracted document text and bounding boxes\n",
    "text_data = requests.get(f\"{results_endpoint}/text\")\n",
    "print(json.dumps(text_data.json(), indent=2))"
   ]
  },
  {
   "cell_type": "code",
   "execution_count": null,
   "metadata": {},
   "outputs": [],
   "source": [
    "# Extracted document equations, bounding boxes, and images\n",
    "equation_data = requests.get(f\"{results_endpoint}/extractions/equations\")\n",
    "print(json.dumps(equation_data.json(), indent=2))"
   ]
  },
  {
   "cell_type": "code",
   "execution_count": null,
   "metadata": {},
   "outputs": [],
   "source": [
    "# Extracted document figures, bounding boxes, and images\n",
    "figure_data = requests.get(f\"{results_endpoint}/extractions/figures\")\n",
    "print(json.dumps(figure_data.json(), indent=2))"
   ]
  },
  {
   "cell_type": "code",
   "execution_count": null,
   "metadata": {},
   "outputs": [],
   "source": [
    "# Extracted document tables, bounding boxes, and images\n",
    "table_data = requests.get(f\"{results_endpoint}/extractions/tables\")\n",
    "print(json.dumps(table_data.json(), indent=2))"
   ]
  },
  {
   "cell_type": "markdown",
   "metadata": {},
   "source": [
    "### Full Results (Zip)"
   ]
  },
  {
   "cell_type": "code",
   "execution_count": null,
   "metadata": {},
   "outputs": [],
   "source": [
    "ZIP_DOWNLOAD_PATH = SAMPLE_PDF_PATH.replace('.pdf', '.zip')\n",
    "with open(ZIP_DOWNLOAD_PATH, 'wb') as writer:\n",
    "    writer.write(requests.get(results_endpoint).content)\n",
    "\n",
    "print(f'You can access the downloaded zip file at {FileLink(ZIP_DOWNLOAD_PATH)} .\\nIt contains the following files:')\n",
    "\n",
    "with ZipFile(ZIP_DOWNLOAD_PATH, 'r') as zipfile:\n",
    "    zipfile.printdir()"
   ]
  },
  {
   "cell_type": "markdown",
   "metadata": {},
   "source": [
    "### View Figures\n",
    "\n",
    "The zip file contains a number of image files, as well as apache parquet files containing information about those images.\n",
    "Each parquet file contains information about a separate extraction type (tables, figures, and equations). The names of each\n",
    "parquet file are based on the name of the input PDF file."
   ]
  },
  {
   "cell_type": "code",
   "execution_count": null,
   "metadata": {},
   "outputs": [],
   "source": [
    "def show_extractions(parquet_path, bb_column, page_column):\n",
    "    \"\"\"Utility function to show every extraction from a single COSMOS Parquet file\"\"\"\n",
    "    with (TemporaryDirectory() as td, ZipFile(ZIP_DOWNLOAD_PATH, 'r') as zipfile):\n",
    "        # extract the parquet file from the zip archive\n",
    "        zipfile.extract(parquet_path, td)\n",
    "        # read the parquet file\n",
    "        parquet_table = parquet.read_table(os.path.join(td, parquet_path))\n",
    "        pandas_data: pd.DataFrame = parquet_table.to_pandas()\n",
    "        # TODO the img_path column currently contains the absolute path of the image on the server,\n",
    "        # rather than the relative path from the root of the zip folder\n",
    "        pandas_data['img_pth'] = pandas_data['img_pth'].replace('/tmp/tmp.*/','',regex=True)\n",
    "\n",
    "        # Print each extraction alongside its score, page, and bounding box\n",
    "        for idx, row in pandas_data.iterrows():\n",
    "            img_path = row['img_pth']\n",
    "            zipfile.extract(img_path, td)\n",
    "            print(f\"Extracted Item #{idx+1}\\n\"\n",
    "                  f\"Page: {row[page_column]}\\n\"\n",
    "                  f\"Bounding Box: {row[bb_column]}\\n\"\n",
    "                  f\"Score: {row['postprocess_score']}\")\n",
    "            display(Image(os.path.join(td,img_path)))"
   ]
  },
  {
   "cell_type": "code",
   "execution_count": null,
   "metadata": {},
   "outputs": [],
   "source": [
    "# Figures\n",
    "show_extractions(\n",
    "    SAMPLE_PDF_PATH.replace('.pdf','_figures.parquet'), \n",
    "    'obj_bbs',\n",
    "    'obj_page')"
   ]
  },
  {
   "cell_type": "code",
   "execution_count": null,
   "metadata": {},
   "outputs": [],
   "source": [
    "# Equations\n",
    "show_extractions(\n",
    "    SAMPLE_PDF_PATH.replace('.pdf','_equations.parquet'), \n",
    "    'equation_bb',\n",
    "    'equation_page')"
   ]
  },
  {
   "cell_type": "code",
   "execution_count": null,
   "metadata": {},
   "outputs": [],
   "source": [
    "# Tables\n",
    "show_extractions(\n",
    "    SAMPLE_PDF_PATH.replace('.pdf','_tables.parquet'), \n",
    "    'obj_bbs',\n",
    "    'obj_page')"
   ]
  }
 ],
 "metadata": {
  "kernelspec": {
   "display_name": ".venv",
   "language": "python",
   "name": "python3"
  },
  "language_info": {
   "codemirror_mode": {
    "name": "ipython",
    "version": 3
   },
   "file_extension": ".py",
   "mimetype": "text/x-python",
   "name": "python",
   "nbconvert_exporter": "python",
   "pygments_lexer": "ipython3",
   "version": "3.10.12"
  },
  "orig_nbformat": 4
 },
 "nbformat": 4,
 "nbformat_minor": 2
}
